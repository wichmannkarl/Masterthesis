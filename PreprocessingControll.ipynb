{
 "cells": [
  {
   "cell_type": "markdown",
   "id": "538c9c7a",
   "metadata": {},
   "source": [
    "# Masterthesis\n",
    "## PreprocessingControlling\n",
    "\n",
    "**Imports and Definitions**\n",
    "- The necessary libraries are loaded here and important variables are defined\n",
    "\n",
    "**Imports and settings for this script**\n",
    "- Import libraries and set variables for this script\n",
    "\n",
    "**Calculate best hampel filter value**\n",
    "- Create a resultfile of hampelfilter with different windowssize\n",
    "\n",
    "**Create summary of humpel filter analyse**\n",
    "- Create a boxplot of the resultfile\n"
   ]
  },
  {
   "cell_type": "code",
   "execution_count": 1,
   "id": "091754c4",
   "metadata": {
    "scrolled": true
   },
   "outputs": [
    {
     "name": "stdout",
     "output_type": "stream",
     "text": [
      "OS is Windows\n"
     ]
    }
   ],
   "source": [
    "# Import sklearn\n",
    "import sklearn\n",
    "\n",
    "# Import pandas\n",
    "import pandas as pd\n",
    "\n",
    "# Import numpy\n",
    "import numpy as np\n",
    "\n",
    "# To calculate amplitude and phase\n",
    "import math\n",
    "\n",
    "# Measure runtime of a jupyter jotebook code cell\n",
    "from timeit import default_timer as timer\n",
    "\n",
    "# Used to check if file exists\n",
    "import os\n",
    "\n",
    "# Used to check if directory exists\n",
    "import pathlib\n",
    "\n",
    "# Import Operation System Calls\n",
    "import SubOperationSystem\n",
    "\n",
    "# check os\n",
    "if os.name == 'nt':\n",
    "    print(\"OS is Windows\")\n",
    "    Delimiter = '\\\\'\n",
    "    \n",
    "else:\n",
    "    print(\"OS is Linux\")\n",
    "    Delimiter = '/'\n",
    "    \n",
    "# Path of datasets (root directory)\n",
    "PathDataset = 'Dataset' + Delimiter    \n",
    "\n",
    "# Path of datasets\n",
    "PathDatasetSub = PathDataset + 'CsiFilesRah' + Delimiter\n",
    "        \n",
    "# Path of the converted files\n",
    "PathConverted = PathDataset + 'Converted' + Delimiter\n",
    "\n",
    "# Set path for scenario files\n",
    "PathScenario = PathDataset + 'Scenario' + Delimiter\n",
    "\n",
    "# Set path for scenario files\n",
    "PathResult = PathDataset + 'Result' + Delimiter\n",
    "\n",
    "# Set path for scenario files\n",
    "PathPlot = PathDataset + 'Plot' + Delimiter\n",
    "\n",
    "# Set path for scenario files\n",
    "PathConfig = 'FilesConfig' + Delimiter\n",
    "\n",
    "# Scenariofile (file with info about the ten scenarios)\n",
    "FileScenario = 'FileScenario.csv'\n",
    "\n",
    "# Mappingfile (file with info about original and converted filenames)\n",
    "FileMapping = 'FileMapping.csv'\n"
   ]
  },
  {
   "cell_type": "markdown",
   "id": "9d7bed7e",
   "metadata": {},
   "source": [
    "# Imports and settings for this script"
   ]
  },
  {
   "cell_type": "code",
   "execution_count": 2,
   "id": "a1b93560",
   "metadata": {},
   "outputs": [],
   "source": [
    "# Import mathplot\n",
    "import matplotlib.pyplot as plt\n",
    "\n",
    "# Import seaborn\n",
    "import seaborn as sns\n",
    "\n",
    "# Display graph in jupyter notebook\n",
    "%matplotlib inline\n",
    "\n",
    "# Import hampel\n",
    "from hampel import hampel\n",
    "\n",
    "# Import mpatches for legende\n",
    "import matplotlib.patches as mpatches\n",
    "\n",
    "# Result file Hampelfilter\n",
    "FileResultFilterHampel = 'FileResultFilterHampel.csv'"
   ]
  },
  {
   "cell_type": "markdown",
   "id": "2186291b",
   "metadata": {},
   "source": [
    "# Calculate best hampel filter value"
   ]
  },
  {
   "cell_type": "code",
   "execution_count": null,
   "id": "13037512",
   "metadata": {
    "scrolled": true
   },
   "outputs": [],
   "source": [
    "# Read the mapping file. This file contains the mapping between old filename and new filename.\n",
    "dfFiles = pd.read_csv(PathConfig + FileMapping, sep=',')\n",
    "\n",
    "# Create dictionary for results\n",
    "Colums = ({'File':[], 'Windowssize':[], 'Value' :[], 'Duration':[]})\n",
    "\n",
    "# Add colums to dataframe\n",
    "dfResult = pd.DataFrame(Colums)\n",
    "\n",
    "# loop through dataframe files\n",
    "for ind in dfFiles.index:\n",
    "    \n",
    "    # Get filenames\n",
    "    LineNumber,FilenameOld,FilenameNew = (dfFiles['LineNumber'][ind], dfFiles['FilenameOld'][ind], dfFiles['FilenameNew'][ind])\n",
    "        \n",
    "    # Rename filename with ampitude label\n",
    "    DataFileAmplitude = FilenameNew.replace(\".csv\", \"_a.csv\")\n",
    "\n",
    "    # Read csv file to dataframe and remove label column\n",
    "    df = pd.read_csv(PathConverted + DataFileAmplitude)\n",
    "    df = df.drop(\"label\",axis=1)\n",
    "    \n",
    "    # copy df to numpy array\n",
    "    ArrayCsiUnfiltered = df.to_numpy()\n",
    "    ArrayCsiFiltered = df.to_numpy()\n",
    "    \n",
    "    # loop for windows_size (1..19)\n",
    "    for ws in range(1,20):\n",
    "           \n",
    "        # hampel filter to remove outlier\n",
    "        for y in range(df.shape[1]):\n",
    "            ArrayCsiFiltered[:,y] = hampel(ArrayCsiUnfiltered[:,y],window_size=ws, n_sigma=3.0).filtered_data\n",
    "\n",
    "        # Add results to df\n",
    "        result = pd.DataFrame({'File':DataFileAmplitude,\n",
    "                               'Windowssize':ws,\n",
    "                               'Value':np.max(ArrayCsiFiltered), \n",
    "                               'Duration':end - start}, index=[0])\n",
    "        \n",
    "        # Add dataframe in the right seqeuenz\n",
    "        dfDataframes = [dfResult,result]\n",
    "        dfResult = pd.concat(dfDataframes).reset_index(drop=True)\n",
    "        \n",
    "        # Save values\n",
    "        dfResult.to_csv(PathResult + FileResultFilterHampel, index=False)\n",
    "\n",
    "# close file\n",
    "dfResult.close()\n"
   ]
  },
  {
   "cell_type": "markdown",
   "id": "db5aae87",
   "metadata": {},
   "source": [
    "## Create summary of humpel filter analyse"
   ]
  },
  {
   "cell_type": "code",
   "execution_count": 4,
   "id": "c02872a0",
   "metadata": {
    "scrolled": true
   },
   "outputs": [
    {
     "data": {
      "image/png": "[encoded data removed]",
      "text/plain": [
       "<Figure size 1100x500 with 1 Axes>"
      ]
     },
     "metadata": {},
     "output_type": "display_data"
    }
   ],
   "source": [
    "# Read hampel result file\n",
    "df = pd.read_csv(PathResults + FileResultFilterHampel, sep=',')\n",
    "\n",
    "# Select target column\n",
    "y = df['Value']\n",
    "\n",
    "# Select x column\n",
    "x = df['Windowssize']\n",
    "\n",
    "# Set figure size\n",
    "plt.figure(figsize=(11,5))\n",
    "\n",
    "# Create seaborn box\n",
    "sns.boxplot(x=x, y=y, palette=\"Set3\")\n",
    "\n",
    "# Set label of seaborn box\n",
    "plt.xlabel(\"Windowssize\", size=11)\n",
    "plt.ylabel(\"Amplitude\", size=11)\n",
    "\n",
    "# \n",
    "patch = mpatches.Patch(color='gray', label='Gray data')\n",
    "plt.legend(handles=[patch], loc='upper right')\n",
    "\n",
    "# Save plot (needed for masterthesis)\n",
    "plt.savefig(PathResults + \"ResultHumpelFilter.png\")\n"
   ]
  }
 ],
 "metadata": {
  "kernelspec": {
   "display_name": "Python 3 (ipykernel)",
   "language": "python",
   "name": "python3"
  },
  "language_info": {
   "codemirror_mode": {
    "name": "ipython",
    "version": 3
   },
   "file_extension": ".py",
   "mimetype": "text/x-python",
   "name": "python",
   "nbconvert_exporter": "python",
   "pygments_lexer": "ipython3",
   "version": "3.9.13"
  }
 },
 "nbformat": 4,
 "nbformat_minor": 5
}
